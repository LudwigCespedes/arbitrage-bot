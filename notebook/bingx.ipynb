{
 "cells": [
  {
   "cell_type": "code",
   "execution_count": 42,
   "id": "d1b0f6ee",
   "metadata": {},
   "outputs": [],
   "source": [
    "import ccxt \n",
    "import os\n",
    "from dotenv import load_dotenv\n",
    "import pprint\n",
    "import pandas as pd\n",
    "import numpy as np"
   ]
  },
  {
   "cell_type": "code",
   "execution_count": 3,
   "id": "a4da596a",
   "metadata": {},
   "outputs": [
    {
     "name": "stdout",
     "output_type": "stream",
     "text": [
      "{'info': {'code': '0', 'msg': '', 'debugMsg': '', 'retryable': '0', 'data': {'balances': [{'asset': 'ETH', 'disPlayName': 'ETH', 'free': '0.000073575', 'locked': '0'}, {'asset': 'BTC', 'disPlayName': 'BTC', 'free': '1.23190299e-8', 'locked': '0'}, {'asset': 'USDT', 'disPlayName': 'USDT', 'free': '1.5376685963944254', 'locked': '14.25'}, {'asset': 'VST', 'disPlayName': 'VST', 'free': '166240.09555901', 'locked': '0'}, {'asset': 'ARB', 'disPlayName': 'ARB', 'free': '0', 'locked': '0'}, {'asset': 'NEO', 'disPlayName': 'NEO', 'free': '0', 'locked': '0'}, {'asset': 'USDC', 'disPlayName': 'USDC', 'free': '0', 'locked': '0'}, {'asset': 'BNB', 'disPlayName': 'BNB', 'free': '0.0005', 'locked': '0'}, {'asset': 'DOT', 'disPlayName': 'DOT', 'free': '0', 'locked': '0'}, {'asset': 'LTC', 'disPlayName': 'LTC', 'free': '0', 'locked': '0'}]}}, 'ETH': {'free': 7.3575e-05, 'used': 0.0, 'total': 7.3575e-05}, 'BTC': {'free': 1.23190299e-08, 'used': 0.0, 'total': 1.23190299e-08}, 'USDT': {'free': 1.5376685963944254, 'used': 14.25, 'total': 15.787668596394425}, 'VST': {'free': 166240.09555901, 'used': 0.0, 'total': 166240.09555901}, 'ARB': {'free': 0.0, 'used': 0.0, 'total': 0.0}, 'NEO': {'free': 0.0, 'used': 0.0, 'total': 0.0}, 'USDC': {'free': 0.0, 'used': 0.0, 'total': 0.0}, 'BNB': {'free': 0.0005, 'used': 0.0, 'total': 0.0005}, 'DOT': {'free': 0.0, 'used': 0.0, 'total': 0.0}, 'LTC': {'free': 0.0, 'used': 0.0, 'total': 0.0}, 'free': {'ETH': 7.3575e-05, 'BTC': 1.23190299e-08, 'USDT': 1.5376685963944254, 'VST': 166240.09555901, 'ARB': 0.0, 'NEO': 0.0, 'USDC': 0.0, 'BNB': 0.0005, 'DOT': 0.0, 'LTC': 0.0}, 'used': {'ETH': 0.0, 'BTC': 0.0, 'USDT': 14.25, 'VST': 0.0, 'ARB': 0.0, 'NEO': 0.0, 'USDC': 0.0, 'BNB': 0.0, 'DOT': 0.0, 'LTC': 0.0}, 'total': {'ETH': 7.3575e-05, 'BTC': 1.23190299e-08, 'USDT': 15.787668596394425, 'VST': 166240.09555901, 'ARB': 0.0, 'NEO': 0.0, 'USDC': 0.0, 'BNB': 0.0005, 'DOT': 0.0, 'LTC': 0.0}}\n"
     ]
    }
   ],
   "source": [
    "load_dotenv()\n",
    "def load_bingx():\n",
    "    \n",
    "    api_key = os.getenv(\"api_key\")\n",
    "    api_secret = os.getenv(\"api_secret\")\n",
    "    bingx = ccxt.bingx({\n",
    "    'apiKey': api_key,\n",
    "    'secret': api_secret,\n",
    "    'options': {\n",
    "        'defaultType': 'spot'}  # MUY IMPORTANTE para usar futuros\n",
    "    \n",
    "    })\n",
    "    return bingx\n",
    "bingx = load_bingx()\n",
    "print(bingx.fetch_balance())"
   ]
  },
  {
   "cell_type": "code",
   "execution_count": 50,
   "id": "556434c6",
   "metadata": {},
   "outputs": [
    {
     "name": "stdout",
     "output_type": "stream",
     "text": [
      "{'ask': 0.9994,\n",
      " 'askVolume': 38245914.652,\n",
      " 'average': 0.9993,\n",
      " 'baseVolume': 43286016.37,\n",
      " 'bid': 0.9993,\n",
      " 'bidVolume': 15003.434,\n",
      " 'change': 0.0001,\n",
      " 'close': 0.9994,\n",
      " 'datetime': '2025-07-18T23:15:08.633Z',\n",
      " 'high': 0.9996,\n",
      " 'indexPrice': None,\n",
      " 'info': {'askPrice': '0.9994',\n",
      "          'askQty': '38245914.652',\n",
      "          'bidPrice': '0.9993',\n",
      "          'bidQty': '15003.434',\n",
      "          'closeTime': '1752880508633',\n",
      "          'highPrice': '0.9996',\n",
      "          'lastPrice': '0.9994',\n",
      "          'lowPrice': '0.9990',\n",
      "          'openPrice': '0.9993',\n",
      "          'openTime': '1752794108633',\n",
      "          'priceChange': '0.0001',\n",
      "          'priceChangePercent': '0.01%',\n",
      "          'quoteVolume': '43254968.79',\n",
      "          'symbol': 'USDC-USDT',\n",
      "          'volume': '43286016.37'},\n",
      " 'last': 0.9994,\n",
      " 'low': 0.999,\n",
      " 'markPrice': None,\n",
      " 'open': 0.9993,\n",
      " 'percentage': 0.01,\n",
      " 'previousClose': None,\n",
      " 'quoteVolume': 43254968.79,\n",
      " 'symbol': 'USDC/USDT',\n",
      " 'timestamp': 1752880508633,\n",
      " 'vwap': 0.9992827341806044}\n"
     ]
    }
   ],
   "source": [
    "pprint.pprint(bingx.fetch_ticker(\"USDC/USDT\"))"
   ]
  },
  {
   "cell_type": "code",
   "execution_count": 76,
   "id": "0d122679",
   "metadata": {},
   "outputs": [],
   "source": [
    "data = bingx.fetch_ohlcv(\"USDC/USDT\",\"5m\")\n",
    "        #print(simple_arbitrage_usdc_usdt(data))\n",
    "data= pd.DataFrame(data)\n",
    "data.rename(columns={0: \"timestamp\", 1: \"open\", 2: \"high\", 3: \"low\", 4: \"close\", 5: \"volume\"}, inplace=True)\n",
    "data['datetime'] = pd.to_datetime(data['timestamp'], unit='ms')"
   ]
  },
  {
   "cell_type": "code",
   "execution_count": 86,
   "id": "b5f7ba75",
   "metadata": {},
   "outputs": [
    {
     "data": {
      "application/vnd.microsoft.datawrangler.viewer.v0+json": {
       "columns": [
        {
         "name": "index",
         "rawType": "int64",
         "type": "integer"
        },
        {
         "name": "timestamp",
         "rawType": "int64",
         "type": "integer"
        },
        {
         "name": "open",
         "rawType": "float64",
         "type": "float"
        },
        {
         "name": "high",
         "rawType": "float64",
         "type": "float"
        },
        {
         "name": "low",
         "rawType": "float64",
         "type": "float"
        },
        {
         "name": "close",
         "rawType": "float64",
         "type": "float"
        },
        {
         "name": "volume",
         "rawType": "float64",
         "type": "float"
        },
        {
         "name": "datetime",
         "rawType": "datetime64[ns]",
         "type": "datetime"
        }
       ],
       "ref": "f2b12063-fa3d-473c-b232-69e31242f530",
       "rows": [
        [
         "0",
         "1752738000000",
         "0.9995",
         "0.9996",
         "0.9995",
         "0.9995",
         "145930.219",
         "2025-07-17 07:40:00"
        ],
        [
         "1",
         "1752738300000",
         "0.9995",
         "0.9996",
         "0.9994",
         "0.9994",
         "128544.469",
         "2025-07-17 07:45:00"
        ],
        [
         "2",
         "1752738600000",
         "0.9994",
         "0.9995",
         "0.9994",
         "0.9995",
         "37689.82",
         "2025-07-17 07:50:00"
        ],
        [
         "3",
         "1752738900000",
         "0.9995",
         "0.9996",
         "0.9994",
         "0.9994",
         "39160.969",
         "2025-07-17 07:55:00"
        ],
        [
         "4",
         "1752739200000",
         "0.9994",
         "0.9995",
         "0.9994",
         "0.9994",
         "145669.758",
         "2025-07-17 08:00:00"
        ],
        [
         "5",
         "1752739500000",
         "0.9994",
         "0.9995",
         "0.9994",
         "0.9994",
         "74393.803",
         "2025-07-17 08:05:00"
        ],
        [
         "6",
         "1752739800000",
         "0.9994",
         "0.9994",
         "0.9993",
         "0.9994",
         "423569.724",
         "2025-07-17 08:10:00"
        ],
        [
         "7",
         "1752740100000",
         "0.9994",
         "0.9995",
         "0.9993",
         "0.9993",
         "288533.129",
         "2025-07-17 08:15:00"
        ],
        [
         "8",
         "1752740400000",
         "0.9993",
         "0.9995",
         "0.9993",
         "0.9994",
         "49846.936",
         "2025-07-17 08:20:00"
        ],
        [
         "9",
         "1752740700000",
         "0.9994",
         "0.9995",
         "0.9994",
         "0.9994",
         "291650.749",
         "2025-07-17 08:25:00"
        ],
        [
         "10",
         "1752741000000",
         "0.9994",
         "0.9995",
         "0.9994",
         "0.9994",
         "114252.844",
         "2025-07-17 08:30:00"
        ],
        [
         "11",
         "1752741300000",
         "0.9994",
         "0.9994",
         "0.9994",
         "0.9994",
         "117804.145",
         "2025-07-17 08:35:00"
        ],
        [
         "12",
         "1752741600000",
         "0.9994",
         "0.9995",
         "0.9994",
         "0.9994",
         "146724.083",
         "2025-07-17 08:40:00"
        ],
        [
         "13",
         "1752741900000",
         "0.9994",
         "0.9995",
         "0.9994",
         "0.9994",
         "98509.379",
         "2025-07-17 08:45:00"
        ],
        [
         "14",
         "1752742200000",
         "0.9995",
         "0.9995",
         "0.9994",
         "0.9994",
         "175304.932",
         "2025-07-17 08:50:00"
        ],
        [
         "15",
         "1752742500000",
         "0.9994",
         "0.9995",
         "0.9994",
         "0.9994",
         "42664.41",
         "2025-07-17 08:55:00"
        ],
        [
         "16",
         "1752742800000",
         "0.9994",
         "0.9995",
         "0.9994",
         "0.9994",
         "68977.307",
         "2025-07-17 09:00:00"
        ],
        [
         "17",
         "1752743100000",
         "0.9994",
         "0.9995",
         "0.9993",
         "0.9994",
         "176706.646",
         "2025-07-17 09:05:00"
        ],
        [
         "18",
         "1752743400000",
         "0.9994",
         "0.9995",
         "0.9993",
         "0.9994",
         "228242.615",
         "2025-07-17 09:10:00"
        ],
        [
         "19",
         "1752743700000",
         "0.9994",
         "0.9995",
         "0.9994",
         "0.9994",
         "118633.09",
         "2025-07-17 09:15:00"
        ],
        [
         "20",
         "1752744000000",
         "0.9994",
         "0.9995",
         "0.9994",
         "0.9994",
         "276331.244",
         "2025-07-17 09:20:00"
        ],
        [
         "21",
         "1752744300000",
         "0.9994",
         "0.9994",
         "0.9992",
         "0.9992",
         "132454.871",
         "2025-07-17 09:25:00"
        ],
        [
         "22",
         "1752744600000",
         "0.9992",
         "0.9994",
         "0.9992",
         "0.9993",
         "96956.424",
         "2025-07-17 09:30:00"
        ],
        [
         "23",
         "1752744900000",
         "0.9993",
         "0.9994",
         "0.9993",
         "0.9993",
         "168466.173",
         "2025-07-17 09:35:00"
        ],
        [
         "24",
         "1752745200000",
         "0.9993",
         "0.9995",
         "0.9993",
         "0.9994",
         "275304.993",
         "2025-07-17 09:40:00"
        ],
        [
         "25",
         "1752745500000",
         "0.9994",
         "0.9995",
         "0.9993",
         "0.9994",
         "67220.354",
         "2025-07-17 09:45:00"
        ],
        [
         "26",
         "1752745800000",
         "0.9994",
         "0.9995",
         "0.9994",
         "0.9994",
         "58461.893",
         "2025-07-17 09:50:00"
        ],
        [
         "27",
         "1752746100000",
         "0.9994",
         "0.9995",
         "0.9994",
         "0.9994",
         "115040.924",
         "2025-07-17 09:55:00"
        ],
        [
         "28",
         "1752746400000",
         "0.9994",
         "0.9995",
         "0.9994",
         "0.9994",
         "150961.111",
         "2025-07-17 10:00:00"
        ],
        [
         "29",
         "1752746700000",
         "0.9994",
         "0.9995",
         "0.9994",
         "0.9994",
         "163875.567",
         "2025-07-17 10:05:00"
        ],
        [
         "30",
         "1752747000000",
         "0.9994",
         "0.9995",
         "0.9994",
         "0.9994",
         "350114.691",
         "2025-07-17 10:10:00"
        ],
        [
         "31",
         "1752747300000",
         "0.9994",
         "0.9995",
         "0.9994",
         "0.9994",
         "185646.236",
         "2025-07-17 10:15:00"
        ],
        [
         "32",
         "1752747600000",
         "0.9994",
         "0.9995",
         "0.9994",
         "0.9994",
         "82334.565",
         "2025-07-17 10:20:00"
        ],
        [
         "33",
         "1752747900000",
         "0.9994",
         "0.9995",
         "0.9994",
         "0.9994",
         "78328.449",
         "2025-07-17 10:25:00"
        ],
        [
         "34",
         "1752748200000",
         "0.9994",
         "0.9995",
         "0.9994",
         "0.9994",
         "45722.063",
         "2025-07-17 10:30:00"
        ],
        [
         "35",
         "1752748500000",
         "0.9994",
         "0.9995",
         "0.9994",
         "0.9994",
         "10863.851",
         "2025-07-17 10:35:00"
        ],
        [
         "36",
         "1752748800000",
         "0.9994",
         "0.9995",
         "0.9994",
         "0.9994",
         "46838.528",
         "2025-07-17 10:40:00"
        ],
        [
         "37",
         "1752749100000",
         "0.9994",
         "0.9995",
         "0.9994",
         "0.9994",
         "30181.467",
         "2025-07-17 10:45:00"
        ],
        [
         "38",
         "1752749400000",
         "0.9994",
         "0.9995",
         "0.9994",
         "0.9994",
         "76226.493",
         "2025-07-17 10:50:00"
        ],
        [
         "39",
         "1752749700000",
         "0.9994",
         "0.9995",
         "0.9994",
         "0.9994",
         "128015.872",
         "2025-07-17 10:55:00"
        ],
        [
         "40",
         "1752750000000",
         "0.9994",
         "0.9995",
         "0.9994",
         "0.9994",
         "82112.075",
         "2025-07-17 11:00:00"
        ],
        [
         "41",
         "1752750300000",
         "0.9994",
         "0.9995",
         "0.9994",
         "0.9994",
         "103075.026",
         "2025-07-17 11:05:00"
        ],
        [
         "42",
         "1752750600000",
         "0.9994",
         "0.9995",
         "0.9994",
         "0.9994",
         "25769.546",
         "2025-07-17 11:10:00"
        ],
        [
         "43",
         "1752750900000",
         "0.9994",
         "0.9995",
         "0.9994",
         "0.9995",
         "100954.948",
         "2025-07-17 11:15:00"
        ],
        [
         "44",
         "1752751200000",
         "0.9994",
         "0.9995",
         "0.9994",
         "0.9994",
         "68939.197",
         "2025-07-17 11:20:00"
        ],
        [
         "45",
         "1752751500000",
         "0.9994",
         "0.9995",
         "0.9994",
         "0.9994",
         "35591.427",
         "2025-07-17 11:25:00"
        ],
        [
         "46",
         "1752751800000",
         "0.9994",
         "0.9995",
         "0.9994",
         "0.9994",
         "19685.862",
         "2025-07-17 11:30:00"
        ],
        [
         "47",
         "1752752100000",
         "0.9994",
         "0.9994",
         "0.9994",
         "0.9994",
         "141461.379",
         "2025-07-17 11:35:00"
        ],
        [
         "48",
         "1752752400000",
         "0.9994",
         "0.9995",
         "0.9994",
         "0.9994",
         "29149.934",
         "2025-07-17 11:40:00"
        ],
        [
         "49",
         "1752752700000",
         "0.9994",
         "0.9995",
         "0.9994",
         "0.9994",
         "98459.762",
         "2025-07-17 11:45:00"
        ]
       ],
       "shape": {
        "columns": 7,
        "rows": 500
       }
      },
      "text/html": [
       "<div>\n",
       "<style scoped>\n",
       "    .dataframe tbody tr th:only-of-type {\n",
       "        vertical-align: middle;\n",
       "    }\n",
       "\n",
       "    .dataframe tbody tr th {\n",
       "        vertical-align: top;\n",
       "    }\n",
       "\n",
       "    .dataframe thead th {\n",
       "        text-align: right;\n",
       "    }\n",
       "</style>\n",
       "<table border=\"1\" class=\"dataframe\">\n",
       "  <thead>\n",
       "    <tr style=\"text-align: right;\">\n",
       "      <th></th>\n",
       "      <th>timestamp</th>\n",
       "      <th>open</th>\n",
       "      <th>high</th>\n",
       "      <th>low</th>\n",
       "      <th>close</th>\n",
       "      <th>volume</th>\n",
       "      <th>datetime</th>\n",
       "    </tr>\n",
       "  </thead>\n",
       "  <tbody>\n",
       "    <tr>\n",
       "      <th>0</th>\n",
       "      <td>1752738000000</td>\n",
       "      <td>0.9995</td>\n",
       "      <td>0.9996</td>\n",
       "      <td>0.9995</td>\n",
       "      <td>0.9995</td>\n",
       "      <td>145930.219</td>\n",
       "      <td>2025-07-17 07:40:00</td>\n",
       "    </tr>\n",
       "    <tr>\n",
       "      <th>1</th>\n",
       "      <td>1752738300000</td>\n",
       "      <td>0.9995</td>\n",
       "      <td>0.9996</td>\n",
       "      <td>0.9994</td>\n",
       "      <td>0.9994</td>\n",
       "      <td>128544.469</td>\n",
       "      <td>2025-07-17 07:45:00</td>\n",
       "    </tr>\n",
       "    <tr>\n",
       "      <th>2</th>\n",
       "      <td>1752738600000</td>\n",
       "      <td>0.9994</td>\n",
       "      <td>0.9995</td>\n",
       "      <td>0.9994</td>\n",
       "      <td>0.9995</td>\n",
       "      <td>37689.820</td>\n",
       "      <td>2025-07-17 07:50:00</td>\n",
       "    </tr>\n",
       "    <tr>\n",
       "      <th>3</th>\n",
       "      <td>1752738900000</td>\n",
       "      <td>0.9995</td>\n",
       "      <td>0.9996</td>\n",
       "      <td>0.9994</td>\n",
       "      <td>0.9994</td>\n",
       "      <td>39160.969</td>\n",
       "      <td>2025-07-17 07:55:00</td>\n",
       "    </tr>\n",
       "    <tr>\n",
       "      <th>4</th>\n",
       "      <td>1752739200000</td>\n",
       "      <td>0.9994</td>\n",
       "      <td>0.9995</td>\n",
       "      <td>0.9994</td>\n",
       "      <td>0.9994</td>\n",
       "      <td>145669.758</td>\n",
       "      <td>2025-07-17 08:00:00</td>\n",
       "    </tr>\n",
       "    <tr>\n",
       "      <th>...</th>\n",
       "      <td>...</td>\n",
       "      <td>...</td>\n",
       "      <td>...</td>\n",
       "      <td>...</td>\n",
       "      <td>...</td>\n",
       "      <td>...</td>\n",
       "      <td>...</td>\n",
       "    </tr>\n",
       "    <tr>\n",
       "      <th>495</th>\n",
       "      <td>1752886500000</td>\n",
       "      <td>0.9993</td>\n",
       "      <td>0.9994</td>\n",
       "      <td>0.9993</td>\n",
       "      <td>0.9993</td>\n",
       "      <td>36630.544</td>\n",
       "      <td>2025-07-19 00:55:00</td>\n",
       "    </tr>\n",
       "    <tr>\n",
       "      <th>496</th>\n",
       "      <td>1752886800000</td>\n",
       "      <td>0.9993</td>\n",
       "      <td>0.9994</td>\n",
       "      <td>0.9993</td>\n",
       "      <td>0.9993</td>\n",
       "      <td>52430.297</td>\n",
       "      <td>2025-07-19 01:00:00</td>\n",
       "    </tr>\n",
       "    <tr>\n",
       "      <th>497</th>\n",
       "      <td>1752887100000</td>\n",
       "      <td>0.9993</td>\n",
       "      <td>0.9993</td>\n",
       "      <td>0.9993</td>\n",
       "      <td>0.9993</td>\n",
       "      <td>46232.538</td>\n",
       "      <td>2025-07-19 01:05:00</td>\n",
       "    </tr>\n",
       "    <tr>\n",
       "      <th>498</th>\n",
       "      <td>1752887400000</td>\n",
       "      <td>0.9993</td>\n",
       "      <td>0.9994</td>\n",
       "      <td>0.9993</td>\n",
       "      <td>0.9993</td>\n",
       "      <td>32610.436</td>\n",
       "      <td>2025-07-19 01:10:00</td>\n",
       "    </tr>\n",
       "    <tr>\n",
       "      <th>499</th>\n",
       "      <td>1752887700000</td>\n",
       "      <td>0.9993</td>\n",
       "      <td>0.9993</td>\n",
       "      <td>0.9993</td>\n",
       "      <td>0.9993</td>\n",
       "      <td>31334.652</td>\n",
       "      <td>2025-07-19 01:15:00</td>\n",
       "    </tr>\n",
       "  </tbody>\n",
       "</table>\n",
       "<p>500 rows × 7 columns</p>\n",
       "</div>"
      ],
      "text/plain": [
       "         timestamp    open    high     low   close      volume  \\\n",
       "0    1752738000000  0.9995  0.9996  0.9995  0.9995  145930.219   \n",
       "1    1752738300000  0.9995  0.9996  0.9994  0.9994  128544.469   \n",
       "2    1752738600000  0.9994  0.9995  0.9994  0.9995   37689.820   \n",
       "3    1752738900000  0.9995  0.9996  0.9994  0.9994   39160.969   \n",
       "4    1752739200000  0.9994  0.9995  0.9994  0.9994  145669.758   \n",
       "..             ...     ...     ...     ...     ...         ...   \n",
       "495  1752886500000  0.9993  0.9994  0.9993  0.9993   36630.544   \n",
       "496  1752886800000  0.9993  0.9994  0.9993  0.9993   52430.297   \n",
       "497  1752887100000  0.9993  0.9993  0.9993  0.9993   46232.538   \n",
       "498  1752887400000  0.9993  0.9994  0.9993  0.9993   32610.436   \n",
       "499  1752887700000  0.9993  0.9993  0.9993  0.9993   31334.652   \n",
       "\n",
       "               datetime  \n",
       "0   2025-07-17 07:40:00  \n",
       "1   2025-07-17 07:45:00  \n",
       "2   2025-07-17 07:50:00  \n",
       "3   2025-07-17 07:55:00  \n",
       "4   2025-07-17 08:00:00  \n",
       "..                  ...  \n",
       "495 2025-07-19 00:55:00  \n",
       "496 2025-07-19 01:00:00  \n",
       "497 2025-07-19 01:05:00  \n",
       "498 2025-07-19 01:10:00  \n",
       "499 2025-07-19 01:15:00  \n",
       "\n",
       "[500 rows x 7 columns]"
      ]
     },
     "execution_count": 86,
     "metadata": {},
     "output_type": "execute_result"
    }
   ],
   "source": [
    "data"
   ]
  },
  {
   "cell_type": "code",
   "execution_count": 49,
   "id": "e5d460b4",
   "metadata": {},
   "outputs": [
    {
     "data": {
      "text/plain": [
       "{'info': {'symbol': 'USDC-USDT',\n",
       "  'orderId': '1946347186262278144',\n",
       "  'transactTime': '1752880305243',\n",
       "  'price': '0.95',\n",
       "  'stopPrice': '0',\n",
       "  'origQty': '15',\n",
       "  'executedQty': '0',\n",
       "  'cummulativeQuoteQty': '0',\n",
       "  'status': 'PENDING',\n",
       "  'type': 'LIMIT',\n",
       "  'side': 'BUY',\n",
       "  'clientOrderID': '',\n",
       "  'clientUserID': '',\n",
       "  'msg': '',\n",
       "  'bxUid': ''},\n",
       " 'id': '1946347186262278144',\n",
       " 'clientOrderId': None,\n",
       " 'symbol': 'USDC/USDT',\n",
       " 'timestamp': 1752880305243,\n",
       " 'datetime': '2025-07-18T23:11:45.243Z',\n",
       " 'lastTradeTimestamp': None,\n",
       " 'lastUpdateTimestamp': None,\n",
       " 'type': 'limit',\n",
       " 'timeInForce': None,\n",
       " 'postOnly': None,\n",
       " 'side': 'buy',\n",
       " 'price': 0.95,\n",
       " 'triggerPrice': None,\n",
       " 'stopLossPrice': None,\n",
       " 'takeProfitPrice': None,\n",
       " 'average': None,\n",
       " 'cost': 0.0,\n",
       " 'amount': 15.0,\n",
       " 'filled': 0.0,\n",
       " 'remaining': 15.0,\n",
       " 'status': 'open',\n",
       " 'fee': {'currency': 'USDC', 'cost': None},\n",
       " 'trades': [],\n",
       " 'reduceOnly': None,\n",
       " 'fees': [{'currency': 'USDC', 'cost': None}],\n",
       " 'stopPrice': None}"
      ]
     },
     "execution_count": 49,
     "metadata": {},
     "output_type": "execute_result"
    }
   ],
   "source": [
    "bingx.create_order(\n",
    "    symbol='USDC/USDT',\n",
    "    type='limit',\n",
    "    side='buy',\n",
    "    amount=15,\n",
    "    price=0.95)"
   ]
  },
  {
   "cell_type": "code",
   "execution_count": 89,
   "id": "431ac4bc",
   "metadata": {},
   "outputs": [
    {
     "data": {
      "text/plain": [
       "{'free': 1.5376685963944254, 'used': 14.25, 'total': 15.787668596394425}"
      ]
     },
     "execution_count": 89,
     "metadata": {},
     "output_type": "execute_result"
    }
   ],
   "source": [
    "bingx.fetch_balance()[\"USDT\"]"
   ]
  },
  {
   "cell_type": "code",
   "execution_count": 101,
   "id": "3a83ca6a",
   "metadata": {},
   "outputs": [],
   "source": [
    "c= bingx.fetch_trades(\"USDC/USDT\", limit=2)"
   ]
  },
  {
   "cell_type": "code",
   "execution_count": 110,
   "id": "f1b41aeb",
   "metadata": {},
   "outputs": [
    {
     "data": {
      "text/plain": [
       "[{'id': '138725540',\n",
       "  'info': {'id': '138725540',\n",
       "   'price': '0.9993',\n",
       "   'qty': '85.369',\n",
       "   'time': '1752893280515',\n",
       "   'buyerMaker': False},\n",
       "  'timestamp': 1752893280515,\n",
       "  'datetime': '2025-07-19T02:48:00.515Z',\n",
       "  'symbol': 'USDC/USDT',\n",
       "  'order': None,\n",
       "  'type': None,\n",
       "  'side': 'buy',\n",
       "  'takerOrMaker': 'taker',\n",
       "  'price': 0.9993,\n",
       "  'amount': 85.369,\n",
       "  'cost': 85.3092417,\n",
       "  'fee': {'cost': None, 'currency': None},\n",
       "  'fees': []},\n",
       " {'id': '138725541',\n",
       "  'info': {'id': '138725541',\n",
       "   'price': '0.9993',\n",
       "   'qty': '53.488',\n",
       "   'time': '1752893280520',\n",
       "   'buyerMaker': True},\n",
       "  'timestamp': 1752893280520,\n",
       "  'datetime': '2025-07-19T02:48:00.520Z',\n",
       "  'symbol': 'USDC/USDT',\n",
       "  'order': None,\n",
       "  'type': None,\n",
       "  'side': 'sell',\n",
       "  'takerOrMaker': 'taker',\n",
       "  'price': 0.9993,\n",
       "  'amount': 53.488,\n",
       "  'cost': 53.4505584,\n",
       "  'fee': {'cost': None, 'currency': None},\n",
       "  'fees': []}]"
      ]
     },
     "execution_count": 110,
     "metadata": {},
     "output_type": "execute_result"
    }
   ],
   "source": [
    "c"
   ]
  },
  {
   "cell_type": "code",
   "execution_count": 112,
   "id": "e2b5a458",
   "metadata": {},
   "outputs": [
    {
     "data": {
      "text/plain": [
       "'buy'"
      ]
     },
     "execution_count": 112,
     "metadata": {},
     "output_type": "execute_result"
    }
   ],
   "source": [
    "c[0]['side']"
   ]
  },
  {
   "cell_type": "code",
   "execution_count": 111,
   "id": "f5c0d986",
   "metadata": {},
   "outputs": [
    {
     "data": {
      "text/plain": [
       "0.9993"
      ]
     },
     "execution_count": 111,
     "metadata": {},
     "output_type": "execute_result"
    }
   ],
   "source": [
    "c[0]['price']"
   ]
  }
 ],
 "metadata": {
  "kernelspec": {
   "display_name": "venv",
   "language": "python",
   "name": "python3"
  },
  "language_info": {
   "codemirror_mode": {
    "name": "ipython",
    "version": 3
   },
   "file_extension": ".py",
   "mimetype": "text/x-python",
   "name": "python",
   "nbconvert_exporter": "python",
   "pygments_lexer": "ipython3",
   "version": "3.13.3"
  }
 },
 "nbformat": 4,
 "nbformat_minor": 5
}
